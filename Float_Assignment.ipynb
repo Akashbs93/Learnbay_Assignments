{
 "cells": [
  {
   "cell_type": "code",
   "execution_count": 1,
   "id": "833a0bac",
   "metadata": {},
   "outputs": [
    {
     "name": "stdout",
     "output_type": "stream",
     "text": [
      "<class 'float'> 2869605161808\n"
     ]
    }
   ],
   "source": [
    "# Declare a float value and store it in a variable.\n",
    "a = 20.5\n",
    "\n",
    "# Check the type and print the id of the same.\n",
    "print(type(a), id(a))"
   ]
  },
  {
   "cell_type": "code",
   "execution_count": 2,
   "id": "f6d2dc24",
   "metadata": {},
   "outputs": [
    {
     "name": "stdout",
     "output_type": "stream",
     "text": [
      "31.0\n",
      "10.0\n",
      "215.25\n",
      "1.9523809523809523\n",
      "1.0\n",
      "10.0\n",
      "59349291812224.555\n"
     ]
    }
   ],
   "source": [
    "# Arithmetic Operations on float\n",
    "# Take two different float values.\n",
    "# Store them in two different variables.\n",
    "a = 20.5\n",
    "b = 10.5\n",
    "\n",
    "# Do below operations on them:-\n",
    "# Find sum of both numbers\n",
    "print(a+b)\n",
    "\n",
    "# Find difference between them\n",
    "print(a-b)\n",
    "\n",
    "# Find the product of both numbers.\n",
    "print(a*b)\n",
    "\n",
    "# Find value after dividing first num with second number\n",
    "print(a/b)\n",
    "\n",
    "# Find the remainder after dividing first number with second number\n",
    "print(a//b)\n",
    "\n",
    "# Find the quotient after dividing first number with second number\n",
    "print(a%b)\n",
    "\n",
    "# Find the result of the first num to the power of the second number.\n",
    "print(a**b)"
   ]
  },
  {
   "cell_type": "code",
   "execution_count": 4,
   "id": "07cfb5fa",
   "metadata": {},
   "outputs": [
    {
     "name": "stdout",
     "output_type": "stream",
     "text": [
      "True\n",
      "False\n",
      "True\n",
      "False\n"
     ]
    }
   ],
   "source": [
    "# Comparison Operators on float\n",
    "# Take two different float values.\n",
    "# Store them in two different variables.\n",
    "a = 10.5\n",
    "b = 9.5\n",
    "\n",
    "# Do below operations on them:-\n",
    "# Compare these two numbers with below operator:-\n",
    "# Greater than, '>'\n",
    "print(a>b)\n",
    "\n",
    "# Smaller than, '<'\n",
    "print(a<b)\n",
    "\n",
    "# Greater than or equal to, '>='\n",
    "print(a>=b)\n",
    "\n",
    "# Less than or equal to, '<='\n",
    "print(a<=b)\n",
    "\n",
    "# Observe their output(return type should be boolean)"
   ]
  },
  {
   "cell_type": "code",
   "execution_count": 6,
   "id": "b7443d5e",
   "metadata": {},
   "outputs": [
    {
     "name": "stdout",
     "output_type": "stream",
     "text": [
      "False\n",
      "True\n"
     ]
    }
   ],
   "source": [
    "# Equality Operator\n",
    "# Take two different float values.\n",
    "# Store them in two different variables.\n",
    "a = 2.5\n",
    "b = 3.5\n",
    "\n",
    "# Equate them using equality operators (==, !=)\n",
    "print(a==b)\n",
    "print(a!=b)\n",
    "\n",
    "# Observe the output(return type should be boolean)"
   ]
  },
  {
   "cell_type": "code",
   "execution_count": 9,
   "id": "03f420f3",
   "metadata": {},
   "outputs": [
    {
     "name": "stdout",
     "output_type": "stream",
     "text": [
      "20.3\n",
      "0.0\n",
      "0.0\n",
      "0.0\n",
      "10.2\n",
      "20.3\n",
      "20.3\n",
      "0.0\n",
      "False\n",
      "True\n"
     ]
    }
   ],
   "source": [
    "# Logical operators\n",
    "# Observe the output of below code\n",
    "# Cross check the output manually\n",
    "# print(10.20 and 20.30) #both are true and second value taken\n",
    "# >Output is 20.3\n",
    "print(10.20 and 20.30)\n",
    "\n",
    "# print(0.0 and 20.30) #First is false so first value\n",
    "# taken->Output is 0.0\n",
    "print(0.0 and 20.30)\n",
    "\n",
    "# print(20.30 and 0.0) #Goes to till second and second value is\n",
    "# false so second is taken>Output is 0.0\n",
    "print(20.30 and 0.0)\n",
    "\n",
    "# print(0.0 and 0.0) #First is false so first value is\n",
    "# taken->Output is 0.0\n",
    "print(0.0 and 0.0)\n",
    "      \n",
    "# print(10.20 or 20.30) #First is True so first value is\n",
    "# taken>Output is 10.2\n",
    "print(10.20 or 20.30)\n",
    "      \n",
    "# print(0.0 or 20.30) #Goes to till second and second is true\n",
    "# second value is taken->Output is 20.3\n",
    "print(0.0 or 20.30)\n",
    "      \n",
    "# print(20.30 or 0.0) #First is True so first value is\n",
    "# taken->Output is 20.3\n",
    "print(20.30 or 0.0)\n",
    "      \n",
    "# print(0.0 or 0.0) #Goes to till second and second is also\n",
    "# false and second value is taken>Output is 0.0\n",
    "print(0.0 or 0.0)\n",
    "      \n",
    "# print(not 10.20) #-Not of true is false->Output is False\n",
    "print(not 10.20)\n",
    "      \n",
    "# print(not 0.0) #Not of false is True>Output is True\n",
    "print(not 0.0)"
   ]
  },
  {
   "cell_type": "code",
   "execution_count": 10,
   "id": "426baf17",
   "metadata": {},
   "outputs": [
    {
     "name": "stdout",
     "output_type": "stream",
     "text": [
      "False\n",
      "True\n"
     ]
    }
   ],
   "source": [
    "# What is the output of expression inside print statement. Cross check\n",
    "# before running the program.\n",
    "# a = 10.20\n",
    "# b = 10.20\n",
    "# print(a is b) #True or False? True 10.20<256\n",
    "a = 10.20\n",
    "b = 10.20\n",
    "print(a is b)\n",
    "\n",
    "# print(a is not b) #True or False? False\n",
    "print(a is not b)\n",
    "\n",
    "# Why the Id of float values are different when the same value is assigned to two different variables\n",
    "# ex: a = 10.5 b=10.5. but id will be same if I assign the variable\n",
    "# having float i.e. a=c then both a and c's Id are same"
   ]
  },
  {
   "cell_type": "code",
   "execution_count": null,
   "id": "57779b78",
   "metadata": {},
   "outputs": [],
   "source": [
    "# Bitwise operation is not applicable between instances of float.\n",
    "# Why the Id of float values are different when the same value is\n",
    "# assigned to two different variables\n",
    "# ex: a = 10.5 b=10.5. but id will be same if I assign the variable\n",
    "# having float i.e. a=c then both a and c's Id are same\n",
    "# Object reusability concept is not applicable on float values."
   ]
  },
  {
   "cell_type": "code",
   "execution_count": 11,
   "id": "dd8d9364",
   "metadata": {},
   "outputs": [
    {
     "name": "stdout",
     "output_type": "stream",
     "text": [
      "True\n",
      "True\n",
      "True\n",
      "True\n",
      "True\n",
      "True\n"
     ]
    }
   ],
   "source": [
    "# Membership operation\n",
    "# in, not in are two membership operators and it returns boolean value\n",
    "# print('2.7' in 'Python2.7.8') #True\n",
    "print('2.7' in 'Python2.7.8')\n",
    "\n",
    "# print(10.20 in [10,10.20,10+20j,'Python']) #True\n",
    "print(10.20 in [10,10.20,10+20j,'Python'])\n",
    "\n",
    "# print(10.20 in (10,10.20,10+20j,'Python')) # True\n",
    "print(10.20 in (10,10.20,10+20j,'Python'))\n",
    "\n",
    "# print(20.30 in {1,20.30,30+40j}) # True\n",
    "print(20.30 in {1,20.30,30+40j})\n",
    "\n",
    "# print(2.3 in {1:100, 2.3:200, 30+40j:300}) # True\n",
    "print(2.3 in {1:100, 2.3:200, 30+40j:300})\n",
    "\n",
    "# print(10 in range(20)) # True\n",
    "print(10 in range(20))"
   ]
  }
 ],
 "metadata": {
  "kernelspec": {
   "display_name": "Python 3",
   "language": "python",
   "name": "python3"
  },
  "language_info": {
   "codemirror_mode": {
    "name": "ipython",
    "version": 3
   },
   "file_extension": ".py",
   "mimetype": "text/x-python",
   "name": "python",
   "nbconvert_exporter": "python",
   "pygments_lexer": "ipython3",
   "version": "3.8.8"
  }
 },
 "nbformat": 4,
 "nbformat_minor": 5
}
