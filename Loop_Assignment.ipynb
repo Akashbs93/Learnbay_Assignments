{
 "cells": [
  {
   "cell_type": "code",
   "execution_count": 6,
   "id": "4ed2827a",
   "metadata": {},
   "outputs": [
    {
     "name": "stdout",
     "output_type": "stream",
     "text": [
      "Enter a number from 0 to 9: 6\n",
      "Six\n"
     ]
    }
   ],
   "source": [
    "# . W. A P. which takes one number from 0 to 9 from the user and prints\n",
    "# it in the word. And if the word is not from 0 to 9 then\n",
    "# it should print that number is outside of the range and program should\n",
    "# exit.\n",
    "# For exapmple:-\n",
    "# input = 1\n",
    "# output = one\n",
    "\n",
    "num = int(input('Enter a number from 0 to 9: '))\n",
    "if num == 0:\n",
    "    print('zero')\n",
    "elif num == 1:\n",
    "    print('one')\n",
    "elif num == 2:\n",
    "    print('Two')\n",
    "elif num == 3:\n",
    "    print('Three')\n",
    "elif num == 4:\n",
    "    print('Four')\n",
    "elif num == 5:\n",
    "    print('Five')\n",
    "elif num == 6:\n",
    "    print('Six')\n",
    "elif num == 7:\n",
    "    print('Seven')\n",
    "elif num == 8:\n",
    "    print('Eight')\n",
    "elif num == 9:\n",
    "    print('Nine')\n",
    "else:\n",
    "    print('Number is outside of range')\n"
   ]
  },
  {
   "cell_type": "code",
   "execution_count": 2,
   "id": "8b900fe8",
   "metadata": {},
   "outputs": [
    {
     "name": "stdout",
     "output_type": "stream",
     "text": [
      "Enter the first number:1\n",
      "Enter the second number:2\n",
      "Enter the operation:3\n",
      "2\n"
     ]
    }
   ],
   "source": [
    "# . W. A P. to implement calculator but the operation to be done and two\n",
    "# numbers will be taken as input from user:-\n",
    "# Operation console should show below:-\n",
    "#  Please select any one operation from below:-\n",
    "#  * To add enter 1\n",
    "#  * to subtract enter 2\n",
    "#  * To multiply enter 3\n",
    "#  * To divide enter 4\n",
    "#  * To divide and find quotient enter 5\n",
    "#  * To divide and find remainder enter 6\n",
    "#  * To divide and find num1 to the power of num2 enter 7\n",
    "#  * To Come out of the program enter 8\n",
    "\n",
    "a = int(input('Enter the first number:'))\n",
    "b = int(input('Enter the second number:'))\n",
    "c = int(input('Enter the operation:'))\n",
    "if c == 1:\n",
    "    print(a+b)\n",
    "elif c == 2:\n",
    "    print(a-b)\n",
    "elif c == 3:\n",
    "    print(a*b)\n",
    "elif c == 4:\n",
    "    print(a/b)\n",
    "elif c == 5:\n",
    "    print(a//b)\n",
    "elif c == 6:\n",
    "    print(a%b)\n",
    "elif c == 7:\n",
    "    print(a**b)\n",
    "elif c == 8:\n",
    "    exit()\n",
    "else:\n",
    "    print('Operation not found')\n",
    "\n"
   ]
  },
  {
   "cell_type": "code",
   "execution_count": 9,
   "id": "51878bd6",
   "metadata": {},
   "outputs": [
    {
     "name": "stdout",
     "output_type": "stream",
     "text": [
      "Enter a year:1971\n",
      "Non-leap year\n"
     ]
    }
   ],
   "source": [
    "# W A P to check whether a year entered by user is an leap year or not?\n",
    "# Check with below input:-\n",
    "#  leap year:- 2012, 1968, 2004, 1200, 1600,2400\n",
    "#  Non-lear year:- 1971, 2006, 1700,1800,1900\n",
    "\n",
    "a = eval(input('Enter a year:'))\n",
    "if a % 4 == 0 and a % 100 != 0:\n",
    "    print('Leap year')\n",
    "elif  a % 400 == 0:\n",
    "    print('Leap year')\n",
    "else:\n",
    "    print('Non-leap year')\n"
   ]
  },
  {
   "cell_type": "code",
   "execution_count": 11,
   "id": "482d7a64",
   "metadata": {},
   "outputs": [
    {
     "name": "stdout",
     "output_type": "stream",
     "text": [
      "enter the number:5\n",
      "number is odd\n"
     ]
    }
   ],
   "source": [
    "# W A P which takes one number from the user and checks whether it is\n",
    "# an even or odd number?, If it even then prints number is\n",
    "# even number else prints that number is odd number.\n",
    "\n",
    "num = int(input('enter the number:'))\n",
    "if num % 2 == 0:\n",
    "    print('number is even')\n",
    "else:\n",
    "    print('number is odd')"
   ]
  },
  {
   "cell_type": "code",
   "execution_count": 15,
   "id": "d87918ba",
   "metadata": {},
   "outputs": [
    {
     "name": "stdout",
     "output_type": "stream",
     "text": [
      "enter the first number:10\n",
      "enter the second number10\n",
      "num1 is equal to num2\n"
     ]
    }
   ],
   "source": [
    "# . W A P which takes two numbers from the user and prints below output:-\n",
    "#  1. num1 is greater than num2 if num1 is greater than num2\n",
    "#  2. num1 is smaller than num2 if num1 is smaller than num2\n",
    "#  3. num1 is equal to num2 if num1 and num2 are equal\n",
    "# Note:- 1. Do this problem using if - else\n",
    "#  2. Do this using ternary operator\n",
    "\n",
    "\n",
    "num1 = int(input('enter the first number:'))\n",
    "num2 = int(input('enter the second number'))\n",
    "if num1 > num2:\n",
    "    print('num1 is greater than num2')\n",
    "elif num1 < num2:\n",
    "    print('num1 is smaller than num2')\n",
    "elif num1 == num2:\n",
    "    print('num1 is equal to num2')"
   ]
  },
  {
   "cell_type": "code",
   "execution_count": 18,
   "id": "ccd91ff7",
   "metadata": {},
   "outputs": [
    {
     "name": "stdout",
     "output_type": "stream",
     "text": [
      "Enter the first num:5\n",
      "Enter the second num2\n",
      "Enter the third num:3\n",
      "5 is greater than 2 and 3\n"
     ]
    }
   ],
   "source": [
    "# W A P which takes three numbers from the user and prints below\n",
    "# output:-\n",
    "#  1. num1 is greater than num2 and num3 if num1 is greater than num2\n",
    "# and num3\n",
    "#  2. num2 is greater than num1 and num3 if num2 is greater than num1\n",
    "# and num3\n",
    "#  3. num3 is greater than num1 and num2 if num3 is greater than num1\n",
    "# and num2\n",
    "# Note:- 1. Do this problem using if - elif - else\n",
    "#  2. Do this using ternary operator\n",
    "# a = a if a>b else b\n",
    "\n",
    "num1 = int(input('Enter the first num:'))\n",
    "num2 = int(input('Enter the second num'))\n",
    "num3 = int(input('Enter the third num:'))\n",
    "if num1 > num2 and num1 > num3:\n",
    "    print(f'{num1} is greater than {num2} and {num3}')\n",
    "elif num2 > num1 and num2 > num3:\n",
    "    print(f'{num2} is greater than {num1} and {num3}')\n",
    "else:\n",
    "    print(f'{num3} is greater than {num1} and {num2}')\n",
    "    \n"
   ]
  },
  {
   "cell_type": "code",
   "execution_count": 22,
   "id": "d06b0391",
   "metadata": {},
   "outputs": [
    {
     "name": "stdout",
     "output_type": "stream",
     "text": [
      "55\n"
     ]
    }
   ],
   "source": [
    "# Write a Python program to find the length of the my_str using loop:-\n",
    "# Input:- 'Write a Python program to find the length of the my_str'\n",
    "# Output:- 55\n",
    "\n",
    "my_str = 'Write a Python program to find the length of the my_str'\n",
    "for i in range(len(my_str)):\n",
    "    i += 1\n",
    "print(i)"
   ]
  },
  {
   "cell_type": "code",
   "execution_count": 23,
   "id": "3b43c5d3",
   "metadata": {},
   "outputs": [
    {
     "name": "stdout",
     "output_type": "stream",
     "text": [
      "p is repeated 9 times in my_str\n"
     ]
    }
   ],
   "source": [
    "# Write a Python program to find the total number of times letter 'p'\n",
    "# is appeared in the below string using loop:-\n",
    "# Input:- 'peter piper picked a peck of pickled peppers.\\n'\n",
    "# Output:- 9\n",
    "\n",
    "my_str = 'peter piper picked a peck of pickled peppers.'\n",
    "count_p = 0\n",
    "for i in my_str:\n",
    "    if i == 'p':\n",
    "        count_p += 1\n",
    "print(f'p is repeated {count_p} times in my_str')"
   ]
  },
  {
   "cell_type": "code",
   "execution_count": 26,
   "id": "8a464453",
   "metadata": {},
   "outputs": [
    {
     "name": "stdout",
     "output_type": "stream",
     "text": [
      "0\n",
      "6\n",
      "8\n",
      "12\n",
      "21\n",
      "29\n",
      "37\n",
      "39\n",
      "40\n"
     ]
    }
   ],
   "source": [
    "# . Write a Python Program, to print all the indexes of all occurences of\n",
    "# letter 'p' appeared in the string using loop:-\n",
    "# Input:- 'peter piper picked a peck of pickled peppers.'\n",
    "# Output:-\n",
    "# 0\n",
    "# 6\n",
    "# 8\n",
    "# 12\n",
    "# 21\n",
    "# 29\n",
    "# 37\n",
    "# 39\n",
    "# 40\n",
    "\n",
    "my_str = 'peter piper picked a peck of pickled peppers.'\n",
    "for i in range(len(my_str)):\n",
    "    if my_str[i] == 'p':\n",
    "        print(i)\n"
   ]
  },
  {
   "cell_type": "code",
   "execution_count": 1,
   "id": "0e6b8254",
   "metadata": {},
   "outputs": [
    {
     "name": "stdout",
     "output_type": "stream",
     "text": [
      "['peter', 'piper', 'picked', 'a', 'peck', 'of', 'pickled', 'peppers.']\n"
     ]
    }
   ],
   "source": [
    "#  Write a python program to find below output using loop:-\n",
    "# Input:- 'peter piper picked a peck of pickled peppers.'\n",
    "# Output:- ['peter', 'piper', 'picked', 'a', 'peck', 'of', 'pickled',\n",
    "# 'peppers']\n",
    "\n",
    "my_str = 'peter piper picked a peck of pickled peppers.'\n",
    "out_lst = []\n",
    "out_word = ''\n",
    "for i in range(len(my_str)):\n",
    "    if my_str[i] == ' ':\n",
    "        out_lst += [out_word]\n",
    "        out_word = ''\n",
    "    elif i == len(my_str)-1:\n",
    "        out_word += my_str[i]\n",
    "        out_lst += [out_word]\n",
    "    else:\n",
    "        out_word += my_str[i]\n",
    "print(out_lst)\n"
   ]
  },
  {
   "cell_type": "code",
   "execution_count": 4,
   "id": "15e2b6b2",
   "metadata": {},
   "outputs": [
    {
     "name": "stdout",
     "output_type": "stream",
     "text": [
      "Peppers. Pickled  Of  Peck  A  Picked  Piper  Peter \n"
     ]
    }
   ],
   "source": [
    "# Write a python program to find below output using loop:-\n",
    "# Input:- 'peter piper picked a peck of pickled peppers.'\n",
    "# Output:- 'peppers pickled of peck a picked piper peter'\n",
    "\n",
    "str = 'Peter Piper Picked A Peck Of Pickled Peppers.'\n",
    "res_str=\"\"\n",
    "substr=\"\"\n",
    "for i in str:\n",
    "    substr+=i\n",
    "    if(i == ' '):\n",
    "        res_str = ' '+substr+res_str\n",
    "        substr=\"\"\n",
    "res_str=substr+res_str\n",
    "print(res_str)"
   ]
  },
  {
   "cell_type": "code",
   "execution_count": 6,
   "id": "ab8cdc04",
   "metadata": {},
   "outputs": [
    {
     "name": "stdout",
     "output_type": "stream",
     "text": [
      ".sreppep delkcip fo kcep a dekcip repip retep\n"
     ]
    }
   ],
   "source": [
    "# Write a python program to find below output using loop:-\n",
    "# Input:- 'peter piper picked a peck of pickled peppers.'\n",
    "# Output:- '.sreppep delkcip fo kcep a dekcip repip retep'\n",
    "    \n",
    "my_str = 'peter piper picked a peck of pickled peppers.'\n",
    "res_str = ''\n",
    "for i in range(-1, -len(my_str)-1, -1):\n",
    "    res_str += my_str[i]\n",
    "print(res_str)\n"
   ]
  },
  {
   "cell_type": "code",
   "execution_count": 7,
   "id": "f4dbec63",
   "metadata": {},
   "outputs": [
    {
     "name": "stdout",
     "output_type": "stream",
     "text": [
      "retep repip dekcip a kcep fo delkcip .sreppep\n"
     ]
    }
   ],
   "source": [
    "# Write a python program to find below output using loop:-\n",
    "# Input:- 'peter piper picked a peck of pickled peppers.'\n",
    "# Output:- 'retep repip dekcip a kcep fo delkcip sreppep'\n",
    "\n",
    "my_str = 'peter piper picked a peck of pickled peppers.'\n",
    "res_str = ''\n",
    "out_word = ''\n",
    "sp_var = 0\n",
    "for i in range(len(my_str)):\n",
    "    if my_str[i] == ' ':\n",
    "        if sp_var == 0:\n",
    "            res_str += out_word\n",
    "            out_word = ''\n",
    "            sp_var += 1\n",
    "        else:\n",
    "            res_str = res_str + ' ' + out_word\n",
    "            out_word = ''\n",
    "    elif i == len(my_str)-1:\n",
    "        out_word = my_str[i] + out_word\n",
    "        res_str = res_str + ' ' + out_word\n",
    "    else:\n",
    "        out_word = my_str[i] + out_word\n",
    "print(res_str)\n"
   ]
  },
  {
   "cell_type": "code",
   "execution_count": 2,
   "id": "7297fb41",
   "metadata": {},
   "outputs": [
    {
     "name": "stdout",
     "output_type": "stream",
     "text": [
      "Peter Piper Picked A Peck Of Pickled Peppers \n"
     ]
    }
   ],
   "source": [
    "# Write a python program to find below output using loop:-\n",
    "# Input:- 'peter piper picked a peck of pickled peppers.'\n",
    "# Output:- 'Peter Piper Picked A Peck Of Pickled Peppers'\n",
    "\n",
    "inp_str = 'peter piper picked a peck of pickled peppers.'\n",
    "out_str = ''\n",
    "new_str = ''\n",
    "for i in inp_str:\n",
    "    if i == ' ' or i =='.':\n",
    "        out_str2 = out_str[0].upper() + out_str[1:]\n",
    "        new_str = new_str + out_str2 +' '\n",
    "        out_str = ''\n",
    "    else:\n",
    "        out_str += i\n",
    "        \n",
    "print(new_str)"
   ]
  },
  {
   "cell_type": "code",
   "execution_count": 3,
   "id": "1580cdb6",
   "metadata": {},
   "outputs": [
    {
     "name": "stdout",
     "output_type": "stream",
     "text": [
      "peter piper picked a peck of pickled peppers \n"
     ]
    }
   ],
   "source": [
    "#  Write a python program to find below output using loop:-\n",
    "# Input:- 'Peter Piper Picked A Peck Of Pickled Peppers.'\n",
    "# Output:- 'Peter piper picked a peck of pickled peppers'\n",
    "inp_str = 'Peter Piper Picked A Peck Of Pickled Peppers.'\n",
    "out_str = ''\n",
    "new_str = ''\n",
    "for i in inp_str:\n",
    "    if i == ' ' or i =='.':\n",
    "        out_str2 = out_str[0].lower() + out_str[1:]\n",
    "        new_str = new_str + out_str2 +' '\n",
    "        out_str = ''\n",
    "    else:\n",
    "        out_str += i\n",
    "        \n",
    "print(new_str)"
   ]
  },
  {
   "cell_type": "code",
   "execution_count": 14,
   "id": "8c7576b4",
   "metadata": {},
   "outputs": [
    {
     "name": "stdout",
     "output_type": "stream",
     "text": [
      "29\n"
     ]
    }
   ],
   "source": [
    "# Write a python program to implement index method using loop. If\n",
    "# sub_str is found in my_str then it will print the index\n",
    "# of first occurrence of first character of matching string in my_str:-\n",
    "# Input:- my_str = 'Peter Piper Picked A Peck Of Pickled Peppers.',\n",
    "# sub_str = 'Pickl'\n",
    "# Output:- 29\n",
    "\n",
    "inp_str = 'Peter Piper Picked A Peck Of Pickled Peppers.'\n",
    "sub_str = 'Pickl'\n",
    "\n",
    "ln_str = len(sub_str)\n",
    "\n",
    "for i in range(len(inp_str)):\n",
    "    if inp_str[i] == sub_str[0]:\n",
    "        if inp_str[i:(i+ln_str)] == sub_str:\n",
    "            print(i)\n",
    "            \n",
    "    else:\n",
    "        continue"
   ]
  },
  {
   "cell_type": "code",
   "execution_count": 44,
   "id": "f6f8350d",
   "metadata": {},
   "outputs": [
    {
     "name": "stdout",
     "output_type": "stream",
     "text": [
      "Peter Piper Picked A Pack Of Pickled Peppers.\n"
     ]
    }
   ],
   "source": [
    "# Write a python program to implement replace method using loop. If\n",
    "# sub_str is found in my_str then it will replace the first\n",
    "# occurrence of sub_str with new_str else it will will print sub_str not\n",
    "# found:-\n",
    "# Input:- my_str = 'Peter Piper Picked A Peck Of Pickled Peppers.',\n",
    "# sub_str = 'Peck', new_str = 'Pack'\n",
    "# Output:- 'Peter Piper Picked A Pack Of Pickled Peppers.\n",
    "inp_str = 'Peter Piper Picked A Peck Of Pickled Peppers.'\n",
    "sub_str = 'Peck'\n",
    "new_str = 'Pack'\n",
    "out_str = ''\n",
    "l1 = len(sub_str)\n",
    "for i in range(len(inp_str)):\n",
    "    if inp_str[i] == sub_str[0]:\n",
    "        if inp_str[i:(i+l1)] == sub_str:\n",
    "            a = i\n",
    "        \n",
    "        else:\n",
    "            continue\n",
    "out_str = inp_str[0:a] + new_str + inp_str[a+l1:]\n",
    "print(out_str)\n",
    "\n",
    "\n",
    "\n"
   ]
  },
  {
   "cell_type": "code",
   "execution_count": 47,
   "id": "33eb83a0",
   "metadata": {},
   "outputs": [
    {
     "name": "stdout",
     "output_type": "stream",
     "text": [
      "*********************Peck********************\n"
     ]
    }
   ],
   "source": [
    "# Write a python program to find below output (implements rjust and\n",
    "# ljust) using loop:-\n",
    "# Input:- 'Peter Piper Picked A Peck Of Pickled Peppers.', sub_str =\n",
    "# 'Peck',\n",
    "# Output:- '*********************Peck********************'\n",
    "\n",
    "inp_str = 'Peter Piper Picked A Peck Of Pickled Peppers.'\n",
    "sub_str = 'Peck'\n",
    "l1 = len(sub_str)\n",
    "for i in range(len(inp_str)):\n",
    "    if inp_str[i] == sub_str[0]:\n",
    "        if inp_str[i:(i+l1)] == sub_str:\n",
    "            a = i\n",
    "        else:\n",
    "            continue\n",
    "            \n",
    "out_str1, out_str2 = '*'*a,'*'*(len(inp_str)-l1-a)\n",
    "\n",
    "print(out_str1+sub_str+out_str2)"
   ]
  },
  {
   "cell_type": "code",
   "execution_count": 48,
   "id": "5e3f4a97",
   "metadata": {},
   "outputs": [
    {
     "name": "stdout",
     "output_type": "stream",
     "text": [
      "('This ', 'is', ' Python class')\n"
     ]
    }
   ],
   "source": [
    "#  Write a python program to find below output using loop:-\n",
    "# Input:- 'This is Python class', sep = ' is',\n",
    "# Output:- ['This', 'is', 'Python class'\n",
    "inp_str = 'This is Python class'\n",
    "print(inp_str.rpartition('is'))"
   ]
  },
  {
   "cell_type": "code",
   "execution_count": null,
   "id": "dfbd8f11",
   "metadata": {},
   "outputs": [],
   "source": []
  }
 ],
 "metadata": {
  "kernelspec": {
   "display_name": "Python 3",
   "language": "python",
   "name": "python3"
  },
  "language_info": {
   "codemirror_mode": {
    "name": "ipython",
    "version": 3
   },
   "file_extension": ".py",
   "mimetype": "text/x-python",
   "name": "python",
   "nbconvert_exporter": "python",
   "pygments_lexer": "ipython3",
   "version": "3.8.8"
  }
 },
 "nbformat": 4,
 "nbformat_minor": 5
}
