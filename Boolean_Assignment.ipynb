{
 "cells": [
  {
   "cell_type": "code",
   "execution_count": 1,
   "id": "894c0bc7",
   "metadata": {},
   "outputs": [
    {
     "name": "stdout",
     "output_type": "stream",
     "text": [
      "<class 'bool'>\n",
      "140717435115344\n"
     ]
    }
   ],
   "source": [
    "# Declare a boolean value and store it in a variable.Check the type and print the id of the same.\n",
    "\n",
    "a = True\n",
    "print(type(a))\n",
    "print(id(a))\n"
   ]
  },
  {
   "cell_type": "code",
   "execution_count": 4,
   "id": "a9868237",
   "metadata": {},
   "outputs": [
    {
     "name": "stdout",
     "output_type": "stream",
     "text": [
      "140717273525776\n",
      "140717273525776\n"
     ]
    }
   ],
   "source": [
    "# Take one boolean value between 0 - 256.\n",
    "# Assign it to two different variables.\n",
    "# Check the id of both the variables. It should come the same. Check why?\n",
    "\n",
    "a = 56\n",
    "b = 56\n",
    "print(id(a))\n",
    "print(id(b))\n"
   ]
  },
  {
   "cell_type": "code",
   "execution_count": 12,
   "id": "a6104985",
   "metadata": {},
   "outputs": [
    {
     "name": "stdout",
     "output_type": "stream",
     "text": [
      "25\n",
      "15\n",
      "100\n",
      "4.0\n",
      "4\n",
      "0\n",
      "3200000\n"
     ]
    }
   ],
   "source": [
    "# Arithmetic Operations on boolean data\n",
    "# Take two different boolean values.\n",
    "# Store them in two different variables.\n",
    "\n",
    "a = 20\n",
    "b = 5\n",
    "\n",
    "# Find sum of both values\n",
    "print(a+b)\n",
    "\n",
    "# Find difference between them\n",
    "print(a-b)\n",
    "\n",
    "# Find the product of both.\n",
    "print(a*b)\n",
    "\n",
    "# Find value after dividing first value with second value\n",
    "print(a/b)\n",
    "\n",
    "# Find the remainder after dividing first value with second value\n",
    "print(a//b)\n",
    "# Find the quotient after dividing first value with second value\n",
    "print(a % b)\n",
    "# Find the result of first value to the power of second value.\n",
    "print(a ** b)"
   ]
  },
  {
   "cell_type": "code",
   "execution_count": 16,
   "id": "92064d46",
   "metadata": {},
   "outputs": [
    {
     "name": "stdout",
     "output_type": "stream",
     "text": [
      "False\n",
      "True\n",
      "False\n",
      "True\n"
     ]
    }
   ],
   "source": [
    "# Comparison Operators on boolean values\n",
    "# Take two different boolean values.\n",
    "# Store them in two different variables.\n",
    "\n",
    "a = 20\n",
    "b = 40\n",
    "\n",
    "# Do below operations on them:-\n",
    "# Compare these two values with below operator:-\n",
    "# Greater than, '>'\n",
    "\n",
    "print(a > b)\n",
    "\n",
    "# less than, '<'\n",
    "\n",
    "print(a<b)\n",
    "\n",
    "# Greater than or equal to, '>='\n",
    "\n",
    "print(a>=b)\n",
    "\n",
    "# Less than or equal to, '<='\n",
    "\n",
    "print(a<=b)\n",
    "\n",
    "# Observe their output(return type should be boolean)"
   ]
  },
  {
   "cell_type": "code",
   "execution_count": 17,
   "id": "6ac0d4de",
   "metadata": {},
   "outputs": [
    {
     "name": "stdout",
     "output_type": "stream",
     "text": [
      "False True\n"
     ]
    }
   ],
   "source": [
    "# Equality Operator\n",
    "# Take two different boolean values.\n",
    "# Store them in two different variables.\n",
    "\n",
    "a = 20\n",
    "b = 30\n",
    "# Equate them using equality operators (==, !=)\n",
    "\n",
    "print(a==b, a!=b)\n",
    "# Observe the output(return type should be boolean)"
   ]
  },
  {
   "cell_type": "code",
   "execution_count": 18,
   "id": "e589b1c1",
   "metadata": {},
   "outputs": [
    {
     "name": "stdout",
     "output_type": "stream",
     "text": [
      "True\n",
      "False\n",
      "False\n",
      "False\n",
      "True\n",
      "True\n",
      "True\n",
      "False\n",
      "False\n",
      "True\n"
     ]
    }
   ],
   "source": [
    "# Logical operators\n",
    "# Observe the output of below code\n",
    "# Cross check the output manually\n",
    "# print(True and True)\n",
    "# #----------------------------------------->Output is True\n",
    "print(True and True)\n",
    "\n",
    "# print(False and True)\n",
    "# #----------------------------------------->Output is False\n",
    "print(False and False)\n",
    "\n",
    "# print(True and False)\n",
    "# #----------------------------------------->Output is False\n",
    "print(True and False)\n",
    "\n",
    "# print(False and False)\n",
    "# #----------------------------------------->Output is False\n",
    "print(False and False)\n",
    "\n",
    "# print(True or True)\n",
    "# #----------------------------------------->Output is True\n",
    "print(True or True)\n",
    "\n",
    "# print(False or True)\n",
    "# #----------------------------------------->Output is True\n",
    "print(False or True)\n",
    "\n",
    "# print(True or False)\n",
    "# #----------------------------------------->Output is True\n",
    "print(True or False)\n",
    "\n",
    "# print(False or False)\n",
    "# #----------------------------------------->Output is False\n",
    "print(False or False)\n",
    "\n",
    "# print(not True)\n",
    "# #----------------------------------------->Output is False\n",
    "print(not True)\n",
    "\n",
    "# print(not False)\n",
    "# #----------------------------------------->Output is True\n",
    "print(not False)"
   ]
  },
  {
   "cell_type": "code",
   "execution_count": 28,
   "id": "d4e6f191",
   "metadata": {},
   "outputs": [
    {
     "name": "stdout",
     "output_type": "stream",
     "text": [
      "True\n",
      "True\n",
      "True\n",
      "-2\n",
      "4\n",
      "0\n"
     ]
    }
   ],
   "source": [
    "# Bitwise Operators\n",
    "# Do below operations on the values provided below:-\n",
    "# Bitwise and(&) --------------> True, True -------> Output is True\n",
    "print (True & True)\n",
    "\n",
    "# Bitwise or(|) --------------> True, False -------> Output is True\n",
    "print(True or False)\n",
    "\n",
    "# Bitwise(^) --------------> True, False -------> Output is True\n",
    "print(True ^ False)\n",
    "\n",
    "# Bitwise negation(~) ---------> True -------> Output is -2\n",
    "print(~ True)\n",
    "\n",
    "# Bitwise left shift ---------> True,2 -------> Output is 4\n",
    "print(True << 2)\n",
    "\n",
    "# Bitwise right shift ---------> True,2 -------> Output is 0\n",
    "print(True >> 2)\n",
    "\n",
    "# Cross check the output manually"
   ]
  },
  {
   "cell_type": "code",
   "execution_count": 32,
   "id": "1d430f82",
   "metadata": {},
   "outputs": [
    {
     "name": "stdout",
     "output_type": "stream",
     "text": [
      "True\n",
      "False\n",
      "True\n",
      "False\n"
     ]
    }
   ],
   "source": [
    "# What is the output of expression inside the print statement. \n",
    "# Cross check before running the program.\n",
    "# a = True\n",
    "# b = True\n",
    "# print(a is b) #True or False? #True\n",
    "\n",
    "a = True\n",
    "b = True\n",
    "print(a is b)\n",
    "\n",
    "# print(a is not b) #True or False? #False\n",
    "print(a is not b)\n",
    "\n",
    "# a = False\n",
    "# b = False\n",
    "# print(a is b) #True or False? #True\n",
    "a = False\n",
    "b = False\n",
    "print(a is b)\n",
    "\n",
    "# print(a is not b) #True or False? #False\n",
    "print(a is not b)"
   ]
  },
  {
   "cell_type": "code",
   "execution_count": 37,
   "id": "f92f4bf1",
   "metadata": {},
   "outputs": [
    {
     "name": "stdout",
     "output_type": "stream",
     "text": [
      "True\n",
      "True\n",
      "True\n",
      "True\n",
      "True\n"
     ]
    }
   ],
   "source": [
    "# Membership operation\n",
    "# in, not in are two membership operators and it returns boolean value\n",
    "# print(True in [10,10.20,10+20j,'Python', True])\n",
    "print(True in [10,10.20,10+20j,'Python', True])\n",
    "\n",
    "# print(False in (10,10.20,10+20j,'Python', False)) \n",
    "print(False in (10,10.20,10+20j,'Python', False))\n",
    "\n",
    "# print(True in {1,2,3, True})\n",
    "print(True in {1,2,3, True})\n",
    "\n",
    "# print(True in {True:100, False:200, True:300})\n",
    "print(True in {True:100, False:200, True:300})\n",
    "\n",
    "# print(False in {True:100, False:200, True:300})\n",
    "print(False in {True:100, False:200, True:300})"
   ]
  }
 ],
 "metadata": {
  "kernelspec": {
   "display_name": "Python 3",
   "language": "python",
   "name": "python3"
  },
  "language_info": {
   "codemirror_mode": {
    "name": "ipython",
    "version": 3
   },
   "file_extension": ".py",
   "mimetype": "text/x-python",
   "name": "python",
   "nbconvert_exporter": "python",
   "pygments_lexer": "ipython3",
   "version": "3.8.8"
  }
 },
 "nbformat": 4,
 "nbformat_minor": 5
}
