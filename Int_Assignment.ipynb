{
 "cells": [
  {
   "cell_type": "code",
   "execution_count": 2,
   "id": "10103a2a",
   "metadata": {},
   "outputs": [
    {
     "name": "stdout",
     "output_type": "stream",
     "text": [
      "<class 'int'> 140717584885840\n"
     ]
    }
   ],
   "source": [
    "# Declare an int value and store it in a variable. Check the type and print the id of the same.\n",
    "\n",
    "a = 10\n",
    "print(type(a), id(a))"
   ]
  },
  {
   "cell_type": "code",
   "execution_count": 1,
   "id": "706f410d",
   "metadata": {},
   "outputs": [
    {
     "name": "stdout",
     "output_type": "stream",
     "text": [
      "140717273525584 140717273525584\n"
     ]
    }
   ],
   "source": [
    "# Take one int value between 0 - 256.\n",
    "# Assign it to two different variables.\n",
    "a = 50\n",
    "b = 50\n",
    "# Check the id of both the variables. It should come the same. Check why?\n",
    "print(id(a), id(b))  #due to object re-usability concept in python.\n"
   ]
  },
  {
   "cell_type": "code",
   "execution_count": 3,
   "id": "10ea09c0",
   "metadata": {},
   "outputs": [
    {
     "name": "stdout",
     "output_type": "stream",
     "text": [
      "2975932654416 2975932654448\n"
     ]
    }
   ],
   "source": [
    "# Take one int value either less than -5 or greater than 256.\n",
    "# Assign it to two different variables.\n",
    "\n",
    "a = 257\n",
    "b = 257\n",
    "# Check the id of both the variables. It should come different.Check why?\n",
    "print(id(a),id(b))  #object re-usability concept is only applicable for integer values between -5 and 256."
   ]
  },
  {
   "cell_type": "code",
   "execution_count": 1,
   "id": "710a1ab5",
   "metadata": {},
   "outputs": [
    {
     "name": "stdout",
     "output_type": "stream",
     "text": [
      "30\n",
      "-10\n",
      "200\n",
      "0.5\n",
      "0\n",
      "0\n",
      "100000000000000000000\n"
     ]
    }
   ],
   "source": [
    "# Arithmetic Operations on integers\n",
    "# Take two different integer values.\n",
    "# Store them in two different variables.\n",
    "a = 10\n",
    "b = 20\n",
    "\n",
    "# Do below operations on them:-\n",
    "# Find sum of both numbers\n",
    "print(a+b)\n",
    "\n",
    "# Find difference between them\n",
    "print(a-b)\n",
    "\n",
    "# Find the product of both numbers.\n",
    "print(a*b)\n",
    "\n",
    "# Find value after dividing first num with second number\n",
    "print(a/b)\n",
    "\n",
    "# Find the remainder after dividing first number with second number\n",
    "print(a//b)\n",
    "\n",
    "# Find the quotient after dividing first number with second number\n",
    "print(a % 2)\n",
    "\n",
    "# Find the result of the first num to the power of the second number.\n",
    "print(a**b)"
   ]
  },
  {
   "cell_type": "code",
   "execution_count": 2,
   "id": "84b616ce",
   "metadata": {},
   "outputs": [
    {
     "name": "stdout",
     "output_type": "stream",
     "text": [
      "True\n",
      "False\n",
      "True\n",
      "False\n"
     ]
    }
   ],
   "source": [
    "# Comparison Operators on integers\n",
    "# Take two different integer values.\n",
    "# Store them in two different variables.\n",
    "a = 50\n",
    "b = 20\n",
    "\n",
    "# Do below operations on them:-\n",
    "# Compare se two numbers with below operator:-\n",
    "# Greater than, '>'\n",
    "print(a > b)\n",
    "\n",
    "# Smaller than, '<'\n",
    "print(a < b)\n",
    "\n",
    "# Greater than or equal to, '>='\n",
    "print(a >= b)\n",
    "\n",
    "# Less than or equal to, '<='\n",
    "print(a <= b)\n",
    "\n",
    "# Observe their output(return type should be boolean)"
   ]
  },
  {
   "cell_type": "code",
   "execution_count": 3,
   "id": "6f20fafd",
   "metadata": {},
   "outputs": [
    {
     "name": "stdout",
     "output_type": "stream",
     "text": [
      "False\n",
      "True\n"
     ]
    }
   ],
   "source": [
    "# Equality Operator\n",
    "# Take two different integer values.\n",
    "# Store them in two different variables.\n",
    "a = 20\n",
    "b = 30\n",
    "\n",
    "# Equate them using equality operators (==, !=)\n",
    "print(a == b)\n",
    "print(a != b)\n",
    "\n",
    "# Observe the output(return type should be boolean)"
   ]
  },
  {
   "cell_type": "code",
   "execution_count": 4,
   "id": "11f27934",
   "metadata": {},
   "outputs": [
    {
     "name": "stdout",
     "output_type": "stream",
     "text": [
      "20\n",
      "0\n",
      "0\n",
      "0\n",
      "10\n",
      "20\n",
      "20\n",
      "0\n",
      "False\n",
      "True\n"
     ]
    }
   ],
   "source": [
    "# Logical operators\n",
    "# Observe the output of below code\n",
    "\n",
    "# Cross check the output manually\n",
    "# print(10 and 20)\n",
    "# #----------------------------------------->Output is 20\n",
    "print(10 and 20)\n",
    "\n",
    "# print(0 and 20)\n",
    "# #----------------------------------------->Output is 0\n",
    "print(0 and 20)\n",
    "\n",
    "# print(20 and 0)\n",
    "# #----------------------------------------->Output is 0\n",
    "print(20 and 0)\n",
    "\n",
    "# print(0 and 0)\n",
    "# #----------------------------------------->Output is 0\n",
    "print(0 and 0)\n",
    "\n",
    "# print(10 or 20)\n",
    "# #----------------------------------------->Output is 10\n",
    "print(10 or 20)\n",
    "\n",
    "# print(0 or 20)\n",
    "# #----------------------------------------->Output is 20\n",
    "print(0 or 20)\n",
    "\n",
    "# print(20 or 0)\n",
    "# #----------------------------------------->Output is 20\n",
    "print(20 or 0)\n",
    "\n",
    "# print(0 or 0)\n",
    "# #----------------------------------------->Output is 0\n",
    "print(0 or 0)\n",
    "\n",
    "# print(not 10)\n",
    "# #----------------------------------------->Output is False\n",
    "print(not 10)\n",
    "\n",
    "# print(not 0)\n",
    "# #----------------------------------------->Output is True\n",
    "print(not 0)"
   ]
  },
  {
   "cell_type": "code",
   "execution_count": 11,
   "id": "a493acf5",
   "metadata": {},
   "outputs": [
    {
     "name": "stdout",
     "output_type": "stream",
     "text": [
      "0\n",
      "30\n",
      "30\n",
      "-11\n",
      "40\n",
      "2\n"
     ]
    }
   ],
   "source": [
    "# Bitwise Operators\n",
    "# Do below operations on the values provided below:-\n",
    "# Bitwise and(&) -----------------------------------------> 10, 20\n",
    "# -------> Output is 0\n",
    "print(10 & 20)\n",
    "\n",
    "# Bitwise or(|) -----------------------------------------> 10, 20\n",
    "# -------> Output is 30\n",
    "print(10 | 20)\n",
    "\n",
    "# Bitwise(^) -----------------------------------------> 10, 20\n",
    "# -------> Output is 30\n",
    "print(10 ^ 20)\n",
    "\n",
    "# Bitwise negation(~) ------------------------------------> 10\n",
    "# -------> Output is -11\n",
    "print(~10)\n",
    "\n",
    "# Bitwise left shift ------------------------------------> 10,2\n",
    "# -------> Output is 40\n",
    "print(10 << 2)\n",
    "\n",
    "# Bitwise right shift ------------------------------------> 10,2\n",
    "# -------> Output is 2\n",
    "print(10 >> 2)\n",
    "# Cross check the output manually"
   ]
  },
  {
   "cell_type": "code",
   "execution_count": 15,
   "id": "c3cfb1c0",
   "metadata": {},
   "outputs": [
    {
     "name": "stdout",
     "output_type": "stream",
     "text": [
      "True\n",
      "False\n",
      "False\n",
      "True\n"
     ]
    }
   ],
   "source": [
    "# What is the output of expression inside print statement. Cross check\n",
    "# before running the program.\n",
    "\n",
    "# a = 10\n",
    "# b = 10\n",
    "# print(a is b) #True or False? #True\n",
    "a = 10\n",
    "b = 10\n",
    "print(a is b) \n",
    "\n",
    "# print(a is not b) #True or False? # False\n",
    "print(a is not b)\n",
    "\n",
    "# a = 1000\n",
    "# b = 1000\n",
    "# print(a is b) #True or False? # False\n",
    "a = 1000\n",
    "b = 1000\n",
    "print(a is b)\n",
    "\n",
    "# print(a is not b) #True or False? #True\n",
    "print(a is not b)"
   ]
  },
  {
   "cell_type": "code",
   "execution_count": 16,
   "id": "93f333d7",
   "metadata": {},
   "outputs": [
    {
     "name": "stdout",
     "output_type": "stream",
     "text": [
      "20\n"
     ]
    }
   ],
   "source": [
    "# What is the output of expression inside print statement. Cross check\n",
    "# before running the program.\n",
    "print(10+(10*32)//2**5&20+(~(-10))<<2) # 20\n"
   ]
  },
  {
   "cell_type": "code",
   "execution_count": 22,
   "id": "70d2463a",
   "metadata": {},
   "outputs": [
    {
     "name": "stdout",
     "output_type": "stream",
     "text": [
      "True\n",
      "True\n",
      "True\n",
      "True\n",
      "True\n",
      "True\n"
     ]
    }
   ],
   "source": [
    "# Membership operation\n",
    "# in, not in are two membership operators and it returns boolean value\n",
    "# print('2' in 'Python2.7.8')\n",
    "print('2' in 'python2.7.8')\n",
    "\n",
    "# print(10 in [10,10.20,10+20j,'Python']) #True\n",
    "print(10 in [10,10.20,10+20j,'Python'])\n",
    "\n",
    "# print(10 in (10,10.20,10+20j,'Python')) #True\n",
    "print(10 in (10,10.20,10+20j,'Python'))\n",
    "\n",
    "# print(2 in {1,2,3}) #True\n",
    "print(2 in {1,2,3})\n",
    "\n",
    "# print(3 in {1:100, 2:200, 3:300}) #True\n",
    "print(3 in {1:100, 2:200, 3:300})\n",
    "\n",
    "# print(10 in range(20)) #True\n",
    "print(10 in range(20))"
   ]
  },
  {
   "cell_type": "code",
   "execution_count": 26,
   "id": "1a85c4de",
   "metadata": {},
   "outputs": [
    {
     "name": "stdout",
     "output_type": "stream",
     "text": [
      "0b10011010010100\n",
      "0o23224\n",
      "0x2694\n"
     ]
    }
   ],
   "source": [
    "# An integer can be represented in binary, octal or hexadecimal form.\n",
    "# Declare one binary, one octal and one hexadecimal value and store them\n",
    "# in three different variables.\n",
    "a = 1010\n",
    "b = 0o2734\n",
    "c = 0x5dc\n",
    "# Convert 9876 to its binary, octal and hexadecimal equivalent and print\n",
    "# their corresponding value.\n",
    "a = 9876\n",
    "print(bin(a))\n",
    "print(oct(a))\n",
    "print(hex(a))"
   ]
  },
  {
   "cell_type": "code",
   "execution_count": 30,
   "id": "fefeaa8a",
   "metadata": {},
   "outputs": [
    {
     "name": "stdout",
     "output_type": "stream",
     "text": [
      "80\n",
      "3870\n",
      "64222\n",
      "0b1010000\n",
      "0o7436\n",
      "0xfade\n",
      "0b1010000\n",
      "0b1111101011011110\n",
      "0o175336\n",
      "0o7436\n",
      "0x50\n",
      "0xfade\n"
     ]
    }
   ],
   "source": [
    "# What will be the output of following:-\n",
    "a = 0b1010000\n",
    "print(a) #int value of a\n",
    "\n",
    "b = 0o7436 #int value of b\n",
    "print(b)\n",
    "\n",
    "c = 0xfade #int value of c\n",
    "print(c)\n",
    "\n",
    "print(bin(80)) #binary value of 80\n",
    "\n",
    "print(oct(3870)) #oct value of 3870\n",
    "\n",
    "print(hex(64222)) #hex value of 64222\n",
    "\n",
    "print(bin(0b1010000)) #bin value of 0b1010000\n",
    "\n",
    "print(bin(0xfade)) #bin value of 0xfade\n",
    "\n",
    "print(oct(0xfade)) #oct value of 0xfade\n",
    "\n",
    "print(oct(0o7436)) #oct value of 0o7436\n",
    "\n",
    "print(hex(0b1010000)) #hex value of 0b1010000\n",
    "\n",
    "print(hex(0xfade)) #hex value of 0xfade"
   ]
  }
 ],
 "metadata": {
  "kernelspec": {
   "display_name": "Python 3",
   "language": "python",
   "name": "python3"
  },
  "language_info": {
   "codemirror_mode": {
    "name": "ipython",
    "version": 3
   },
   "file_extension": ".py",
   "mimetype": "text/x-python",
   "name": "python",
   "nbconvert_exporter": "python",
   "pygments_lexer": "ipython3",
   "version": "3.8.8"
  }
 },
 "nbformat": 4,
 "nbformat_minor": 5
}
