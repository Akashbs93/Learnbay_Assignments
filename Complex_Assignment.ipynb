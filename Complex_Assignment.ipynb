{
 "cells": [
  {
   "cell_type": "code",
   "execution_count": 4,
   "id": "ad0b48ce",
   "metadata": {},
   "outputs": [
    {
     "name": "stdout",
     "output_type": "stream",
     "text": [
      "<class 'complex'> 2044907328240\n"
     ]
    }
   ],
   "source": [
    "# Declare a complex number and store it in a variable.\n",
    "a = 10+20j\n",
    "# Check the type and print the id of the same.\n",
    "print(type(a), id(a))"
   ]
  },
  {
   "cell_type": "code",
   "execution_count": 10,
   "id": "6d94d0ac",
   "metadata": {},
   "outputs": [
    {
     "name": "stdout",
     "output_type": "stream",
     "text": [
      "(30+50j)\n",
      "(-10-10j)\n",
      "(-400+700j)\n",
      "(0.6153846153846154+0.0769230769230769j)\n",
      "(-2348247776258.4404+2822337984266.558j)\n"
     ]
    }
   ],
   "source": [
    "# Arithmetic Operations on complex number\n",
    "# Take two different complex numbers.\n",
    "# Store them in two different variables.\n",
    "a = 10+20j\n",
    "b = 20+30j\n",
    "# Do below operations on them:-\n",
    "# Find sum of both numbers\n",
    "print(a+b)\n",
    "\n",
    "# Find difference between them\n",
    "print(a-b)\n",
    "\n",
    "# Find the product of both numbers.\n",
    "print(a*b)\n",
    "\n",
    "# Find value after dividing first num with second number\n",
    "print(a/b)\n",
    "\n",
    "# Find the result of the first num to the power of the second number.\n",
    "print(a**b)"
   ]
  },
  {
   "cell_type": "code",
   "execution_count": null,
   "id": "a7bb0d13",
   "metadata": {},
   "outputs": [],
   "source": [
    "# Comparison Operation not applicable between instance of complex values.\n",
    "# Object reusability concept is not applicable on complex number"
   ]
  },
  {
   "cell_type": "code",
   "execution_count": 12,
   "id": "10a65667",
   "metadata": {},
   "outputs": [
    {
     "name": "stdout",
     "output_type": "stream",
     "text": [
      "False\n",
      "True\n"
     ]
    }
   ],
   "source": [
    "# Equality Operator\n",
    "# Take two different complex numbers.\n",
    "# Store them in two different variables.\n",
    "a = 10+2j\n",
    "b = 10+5j\n",
    "\n",
    "# Equate them using equality operators (==, !=)\n",
    "print(a==b)\n",
    "print(a!=b)\n",
    "\n",
    "# Observe the output(return type should be boolean)"
   ]
  },
  {
   "cell_type": "code",
   "execution_count": 14,
   "id": "8d7e4fff",
   "metadata": {},
   "outputs": [
    {
     "name": "stdout",
     "output_type": "stream",
     "text": [
      "(20+30j)\n",
      "0j\n",
      "0j\n",
      "0j\n",
      "(10+20j)\n",
      "(20+30j)\n",
      "(20+30j)\n",
      "0j\n",
      "False\n",
      "True\n"
     ]
    }
   ],
   "source": [
    "# Logical operators\n",
    "# Observe the output of below code\n",
    "# Cross check the output manually\n",
    "# print(10+20j and 20+30j) #20+30j\n",
    "# #----------------------------------------->Output is 20+30j\n",
    "print(10+20j and 20+30j)\n",
    "\n",
    "# print(0+0j and 20+30j) #0+0j\n",
    "# #----------------------------------------->Output is 0j\n",
    "print(0+0j and 20+30j)\n",
    "\n",
    "# print(20+30j and 0+0j) #0+0j\n",
    "# #----------------------------------------->Output is 0j\n",
    "print(20+30j and 0+0j)\n",
    "\n",
    "# print(0+0j and 0+0j) #0+0j\n",
    "# #----------------------------------------->Output is 0j\n",
    "print(0+0j and 0+0j)\n",
    "\n",
    "# print(10+20j or 20+30j) #10+20j\n",
    "# #----------------------------------------->Output is 10+20j\n",
    "print(10+20j or 20+30j)\n",
    "\n",
    "# print(0+0j or 20+30j) #20+30j\n",
    "# #----------------------------------------->Output is 20+30j\n",
    "print(0+0j or 20+30j)\n",
    "\n",
    "# print(20+30j or 0+0j) #20+30j\n",
    "# #----------------------------------------->Output is 20+30j\n",
    "print(20+30j or 0+0j)\n",
    "\n",
    "# print(0+0j or 0+0j) #0+0j\n",
    "# #----------------------------------------->Output is 0j\n",
    "print(0+0j or 0+0j)\n",
    "\n",
    "# print(not 10+20j) #False\n",
    "# #----------------------------------------->Output is False\n",
    "print(not 10+20j)\n",
    "\n",
    "# print(not 0+0j) #True\n",
    "# #----------------------------------------->Output is True\n",
    "print(not 0+0j)"
   ]
  },
  {
   "cell_type": "code",
   "execution_count": 15,
   "id": "ab8de59a",
   "metadata": {},
   "outputs": [
    {
     "name": "stdout",
     "output_type": "stream",
     "text": [
      "False\n",
      "True\n"
     ]
    }
   ],
   "source": [
    "# What is the output of the expression inside the print statement.\n",
    "# Cross check before running the program.\n",
    "a = 10+20j\n",
    "b = 10+20j\n",
    "# print(a is b) #False #True or False?\n",
    "print(a is b) #False\n",
    "\n",
    "# print(a is not b) #True #True or False?\n",
    "print(a is not b) #True"
   ]
  },
  {
   "cell_type": "code",
   "execution_count": 16,
   "id": "efa05a2a",
   "metadata": {},
   "outputs": [
    {
     "name": "stdout",
     "output_type": "stream",
     "text": [
      "True\n",
      "True\n",
      "True\n",
      "True\n",
      "True\n",
      "True\n"
     ]
    }
   ],
   "source": [
    "# Membership operation\n",
    "# in, not in are two membership operators and it returns boolean value\n",
    "# print('2.7' in 'Python2.7.8') #True\n",
    "print('2.7' in 'Python2.7.8')\n",
    "\n",
    "# print(10+20j in [10,10.20,10+20j,'Python']) #True\n",
    "print(10+20j in [10,10.20,10+20j,'Python'])\n",
    "\n",
    "# print(10+20j in (10,10.20,10+20j,'Python')) #True\n",
    "print(10+20j in (10,10.20,10+20j,'Python'))\n",
    "\n",
    "# print(30+40j in {1,20.30,30+40j}) #True\n",
    "print(30+40j in {1,20.30,30+40j})\n",
    "\n",
    "# print(30+40j in {1:100, 2.3:200, 30+40j:300}) #True\n",
    "print(30+40j in {1:100, 2.3:200, 30+40j:300})\n",
    "\n",
    "# print(10 in range(20)) #True\n",
    "print(10 in range(20))"
   ]
  }
 ],
 "metadata": {
  "kernelspec": {
   "display_name": "Python 3",
   "language": "python",
   "name": "python3"
  },
  "language_info": {
   "codemirror_mode": {
    "name": "ipython",
    "version": 3
   },
   "file_extension": ".py",
   "mimetype": "text/x-python",
   "name": "python",
   "nbconvert_exporter": "python",
   "pygments_lexer": "ipython3",
   "version": "3.8.8"
  }
 },
 "nbformat": 4,
 "nbformat_minor": 5
}
